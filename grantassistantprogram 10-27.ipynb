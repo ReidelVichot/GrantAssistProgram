{
  "nbformat": 4,
  "nbformat_minor": 0,
  "metadata": {
    "colab": {
      "provenance": [],
      "authorship_tag": "ABX9TyM8gL2PAEOsKeo2yhiUfuPz",
      "include_colab_link": true
    },
    "kernelspec": {
      "name": "python3",
      "display_name": "Python 3"
    },
    "language_info": {
      "name": "python"
    }
  },
  "cells": [
    {
      "cell_type": "markdown",
      "metadata": {
        "id": "view-in-github",
        "colab_type": "text"
      },
      "source": [
        "<a href=\"https://colab.research.google.com/github/ReidelVichot/GrantAssistProgram/blob/main/grantassistantprogram%2010-27.ipynb\" target=\"_parent\"><img src=\"https://colab.research.google.com/assets/colab-badge.svg\" alt=\"Open In Colab\"/></a>"
      ]
    },
    {
      "cell_type": "code",
      "execution_count": 24,
      "metadata": {
        "id": "cPIMUK8J9CuI"
      },
      "outputs": [],
      "source": [
        "import pandas as pd\n",
        "import numpy as np\n",
        "import requests\n",
        "from zipfile import ZipFile\n"
      ]
    },
    {
      "cell_type": "code",
      "source": [
        "#Update this variables\n",
        "zip_url = \"https://files.usaspending.gov/generated_downloads/PrimeAwardSummariesAndSubawards_2022-10-26_H15M37S47541905.zip\"\n",
        "zip_file = \"PrimeAwardSummariesAndSubawards_2022-10-26_H15M37S47541905.zip\"\n",
        "csv_file = \"Assistance_PrimeAwardSummaries_2022-10-26_H15M37S48_1.csv\"\n",
        "\n",
        "#Get the zip from the website\n",
        "req = requests.get(zip_url, allow_redirects=True)\n",
        "\n",
        "#Open the zip as a file\n",
        "with open(zip_file, \"wb\") as file:\n",
        "    file.write(req.content)\n",
        "\n",
        "#Extract the zip\n",
        "with ZipFile(zip_file, 'r') as zipObj:\n",
        "   zipObj.extractall()\n"
      ],
      "metadata": {
        "id": "9pyWhgAQESkX"
      },
      "execution_count": 25,
      "outputs": []
    },
    {
      "cell_type": "code",
      "source": [
        "#Get the document as a csv\n",
        "df = pd.read_csv(csv_file, low_memory= False)"
      ],
      "metadata": {
        "id": "LiIJEKp4YHbk"
      },
      "execution_count": 26,
      "outputs": []
    },
    {
      "cell_type": "code",
      "source": [
        "de_municipalities = (\"BLADES, TOWN OF\", \"BOWERS, TOWN OF\", \"BRIDGEVILLE, COMMISSIONERS OF\",\n",
        " \"BRIDGEVILLE, TOWN OF\", \"CHESWOLD, TOWN OF\", \"CITY OF DOVER\",\n",
        " \"CITY OF NEWARK\", \"CITY OF WILMINGTON\", \"DAGSBORO, TOWN OF\",\n",
        " \"DELAWARE CITY, CITY OF\", \"DELMAR  DE TOWN OF\", \"DELMAR DELAWARE, TOWN OF\",\n",
        " \"DELMAR, DE TOWN OF\", \"DOVER, CITY OF (INC)\", \"DOWNTOWN MILFORD,  INC\",\n",
        " \"ELLENDALE  TOWN OF\", \"ELSMERE, TOWN OF\", \"GEORGETOWN  TOWN OF\",\n",
        " \"GEORGETOWN, TOWN OF\", \"GREENWOOD  TOWN OF\", \"HARRINGTON  CITY OF\",\n",
        " \"HARRINGTON, CITY OF\", \"LAUREL  TOWN OF\", \"LAUREL, TOWN OF\",\n",
        " \"MILFORD, CITY OF\", \"MILFORD, CITY OF (INC)\", \"MILLSBORO, TOWN OF\",\n",
        " \"MILTON, TOWN OF\", \"MILTON,TOWN OF\", \"NEW CASTLE, CITY OF\", \"NEWARK, CITY OF\",\n",
        " \"SEAFORD (INC), CITY OF\", \"SELBYVILLE, TOWN OF\", \"SELBYVILLE, TOWN OF , THE\",\n",
        " \"SLAUGHTER BEACH, TOWN OF\", \"SMYRNA, TOWN OF\", \"TOWBN OF LAUREL\",\n",
        " \"WILMINGTON CITY OF\", \"WILMINGTON, CITY OF\")\n",
        "\n",
        "de_counties = ('KENT COUNTY', 'KENT, COUNTY OF', 'NEW CASTLE, COUNTY OF',\n",
        "               'NEW CASTLE COUNTY','SUSSEX CNTY, DELAWARE', 'SUSSEX COUNTY',\n",
        "               'SUSSEX, COUNTY OF')\n",
        "\n",
        "\n",
        "columns = ['recipient_name','total_funding_amount','assistance_type_description']\n",
        "df1 = df[columns]\n",
        "\n",
        "df2 = df1[df1[\"assistance_type_description\"] != \"BLOCK GRANT (A)\"]\n",
        "df2 = df2[df2[\"assistance_type_description\"] != \"FORMULA GRANT (A)\"]\n",
        "#question: what should I do with 'COOPERATIVE AGREEMENT (B)', 'PROJECT GRANT (B)'\n",
        "\n",
        "cities = df1\n",
        "cities = cities.set_index(\"recipient_name\")\n",
        "#cities = cities.loc[de_municipalities]\n",
        "\n",
        "cities1 = cities.loc(axis=0)[\"BLADES, TOWN OF\", \"BOWERS, TOWN OF\", \"BRIDGEVILLE, COMMISSIONERS OF\",\n",
        " \"BRIDGEVILLE, TOWN OF\", \"CHESWOLD, TOWN OF\", \"CITY OF DOVER\",\n",
        " \"CITY OF NEWARK\", \"CITY OF WILMINGTON\", \"DAGSBORO, TOWN OF\",\n",
        " \"DELAWARE CITY, CITY OF\", \"DELMAR  DE TOWN OF\", \"DELMAR DELAWARE, TOWN OF\",\n",
        " \"DELMAR, DE TOWN OF\", \"DOVER, CITY OF (INC)\", \"DOWNTOWN MILFORD,  INC\",\n",
        " \"ELLENDALE  TOWN OF\", \"ELSMERE, TOWN OF\", \"GEORGETOWN  TOWN OF\",\n",
        " \"GEORGETOWN, TOWN OF\", \"GREENWOOD  TOWN OF\", \"HARRINGTON  CITY OF\",\n",
        " \"HARRINGTON, CITY OF\", \"LAUREL  TOWN OF\", \"LAUREL, TOWN OF\",\n",
        " \"MILFORD, CITY OF\", \"MILFORD, CITY OF (INC)\", \"MILLSBORO, TOWN OF\",\n",
        " \"MILTON, TOWN OF\", \"MILTON,TOWN OF\", \"NEW CASTLE, CITY OF\", \"NEWARK, CITY OF\",\n",
        " \"SEAFORD (INC), CITY OF\", \"SELBYVILLE, TOWN OF\", \"SELBYVILLE, TOWN OF , THE\",\n",
        " \"SLAUGHTER BEACH, TOWN OF\", \"SMYRNA, TOWN OF\", \"TOWBN OF LAUREL\",\n",
        " \"WILMINGTON CITY OF\", \"WILMINGTON, CITY OF\"] \n",
        "                   \n",
        "                  \n",
        "\n"
      ],
      "metadata": {
        "id": "cXiE3rhfYWyj"
      },
      "execution_count": 27,
      "outputs": []
    },
    {
      "cell_type": "code",
      "source": [
        "cities.reset_index().loc[1440]\n"
      ],
      "metadata": {
        "id": "qPr4Pu6CYYNm",
        "outputId": "d34ad6b8-e961-4d1d-bc1e-107ee8d38d57",
        "colab": {
          "base_uri": "https://localhost:8080/"
        }
      },
      "execution_count": 32,
      "outputs": [
        {
          "output_type": "execute_result",
          "data": {
            "text/plain": [
              "recipient_name                 TOWBN OF LAUREL\n",
              "total_funding_amount                    6068.0\n",
              "assistance_type_description    BLOCK GRANT (A)\n",
              "Name: 1440, dtype: object"
            ]
          },
          "metadata": {},
          "execution_count": 32
        }
      ]
    },
    {
      "cell_type": "code",
      "source": [
        "(\"BLADES, TOWN OF\", \"BOWERS, TOWN OF\", \"BRIDGEVILLE, COMMISSIONERS OF\",\n",
        " \"BRIDGEVILLE, TOWN OF\", \"CHESWOLD, TOWN OF\", \"CITY OF DOVER\",\n",
        " \"CITY OF NEWARK\", \"CITY OF WILMINGTON\", \"DAGSBORO, TOWN OF\",\n",
        " \"DELAWARE CITY, CITY OF\", \"DELMAR  DE TOWN OF\", \"DELMAR DELAWARE, TOWN OF\",\n",
        " \"DELMAR, DE TOWN OF\", \"DOVER, CITY OF (INC)\", \"DOWNTOWN MILFORD,  INC\",\n",
        " \"ELLENDALE  TOWN OF\", \"ELSMERE, TOWN OF\", \"GEORGETOWN  TOWN OF\",\n",
        " \"GEORGETOWN, TOWN OF\", \"GREENWOOD  TOWN OF\", \"HARRINGTON  CITY OF\",\n",
        " \"HARRINGTON, CITY OF\", \"LAUREL  TOWN OF\", \"LAUREL, TOWN OF\",\n",
        " \"MILFORD, CITY OF\", \"MILFORD, CITY OF (INC)\", \"MILLSBORO, TOWN OF\",\n",
        " \"MILTON, TOWN OF\", \"MILTON,TOWN OF\", \"NEW CASTLE, CITY OF\", \"NEWARK, CITY OF\",\n",
        " \"SEAFORD (INC), CITY OF\", \"SELBYVILLE, TOWN OF\", \"SELBYVILLE, TOWN OF , THE\",\n",
        " \"SLAUGHTER BEACH, TOWN OF\", \"SMYRNA, TOWN OF\", \"TOWBN OF LAUREL\",\n",
        " \"WILMINGTON CITY OF\", \"WILMINGTON, CITY OF\")"
      ],
      "metadata": {
        "id": "ac5V2KQeHwUh",
        "outputId": "f9c4bca1-3197-4e45-ab44-97b149690ba9",
        "colab": {
          "base_uri": "https://localhost:8080/"
        }
      },
      "execution_count": 29,
      "outputs": [
        {
          "output_type": "execute_result",
          "data": {
            "text/plain": [
              "('BLADES, TOWN OF',\n",
              " 'BOWERS, TOWN OF',\n",
              " 'BRIDGEVILLE, COMMISSIONERS OF',\n",
              " 'BRIDGEVILLE, TOWN OF',\n",
              " 'CHESWOLD, TOWN OF',\n",
              " 'CITY OF DOVER',\n",
              " 'CITY OF NEWARK',\n",
              " 'CITY OF WILMINGTON',\n",
              " 'DAGSBORO, TOWN OF',\n",
              " 'DELAWARE CITY, CITY OF',\n",
              " 'DELMAR  DE TOWN OF',\n",
              " 'DELMAR DELAWARE, TOWN OF',\n",
              " 'DELMAR, DE TOWN OF',\n",
              " 'DOVER, CITY OF (INC)',\n",
              " 'DOWNTOWN MILFORD,  INC',\n",
              " 'ELLENDALE  TOWN OF',\n",
              " 'ELSMERE, TOWN OF',\n",
              " 'GEORGETOWN  TOWN OF',\n",
              " 'GEORGETOWN, TOWN OF',\n",
              " 'GREENWOOD  TOWN OF',\n",
              " 'HARRINGTON  CITY OF',\n",
              " 'HARRINGTON, CITY OF',\n",
              " 'LAUREL  TOWN OF',\n",
              " 'LAUREL, TOWN OF',\n",
              " 'MILFORD, CITY OF',\n",
              " 'MILFORD, CITY OF (INC)',\n",
              " 'MILLSBORO, TOWN OF',\n",
              " 'MILTON, TOWN OF',\n",
              " 'MILTON,TOWN OF',\n",
              " 'NEW CASTLE, CITY OF',\n",
              " 'NEWARK, CITY OF',\n",
              " 'SEAFORD (INC), CITY OF',\n",
              " 'SELBYVILLE, TOWN OF',\n",
              " 'SELBYVILLE, TOWN OF , THE',\n",
              " 'SLAUGHTER BEACH, TOWN OF',\n",
              " 'SMYRNA, TOWN OF',\n",
              " 'TOWBN OF LAUREL',\n",
              " 'WILMINGTON CITY OF',\n",
              " 'WILMINGTON, CITY OF')"
            ]
          },
          "metadata": {},
          "execution_count": 29
        }
      ]
    }
  ]
}